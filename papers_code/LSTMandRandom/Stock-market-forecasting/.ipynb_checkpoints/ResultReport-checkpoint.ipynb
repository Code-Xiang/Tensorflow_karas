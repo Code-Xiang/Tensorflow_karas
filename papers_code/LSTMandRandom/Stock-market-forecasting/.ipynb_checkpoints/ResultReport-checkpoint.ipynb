{
 "cells": [
  {
   "cell_type": "code",
   "execution_count": 2,
   "id": "0d7bdc6d",
   "metadata": {},
   "outputs": [],
   "source": [
    "import numpy as np\n",
    "import pandas as pd"
   ]
  },
  {
   "cell_type": "code",
   "execution_count": 51,
   "id": "c0cadd4f",
   "metadata": {},
   "outputs": [
    {
     "name": "stdout",
     "output_type": "stream",
     "text": [
      "Long     0.012272\n",
      "Short    0.012578\n",
      "dtype: float64\n",
      "Long     0.013923\n",
      "Short    0.011620\n",
      "dtype: float64\n",
      "Long     0.013761\n",
      "Short    0.008437\n",
      "dtype: float64\n",
      "Long     0.009384\n",
      "Short    0.008895\n",
      "dtype: float64\n",
      "Long     0.010178\n",
      "Short    0.007736\n",
      "dtype: float64\n",
      "Long     0.009899\n",
      "Short    0.006654\n",
      "dtype: float64\n",
      "Long     0.008462\n",
      "Short    0.005963\n",
      "dtype: float64\n",
      "Long     0.009474\n",
      "Short    0.006551\n",
      "dtype: float64\n",
      "Long     0.010528\n",
      "Short    0.002348\n",
      "dtype: float64\n",
      "Long     0.006574\n",
      "Short    0.007392\n",
      "dtype: float64\n",
      "Long     0.008077\n",
      "Short    0.001330\n",
      "dtype: float64\n",
      "Long     0.005679\n",
      "Short    0.003633\n",
      "dtype: float64\n",
      "Long     0.003954\n",
      "Short    0.002099\n",
      "dtype: float64\n",
      "Long     0.004427\n",
      "Short    0.001694\n",
      "dtype: float64\n",
      "Long     0.005868\n",
      "Short    0.002990\n",
      "dtype: float64\n",
      "Long     0.005929\n",
      "Short    0.004657\n",
      "dtype: float64\n",
      "Long     0.006710\n",
      "Short    0.003297\n",
      "dtype: float64\n",
      "Long     0.004198\n",
      "Short    0.001911\n",
      "dtype: float64\n",
      "Long     0.002237\n",
      "Short    0.002284\n",
      "dtype: float64\n",
      "Long     0.003489\n",
      "Short    0.000717\n",
      "dtype: float64\n",
      "Long     0.003788\n",
      "Short    0.000655\n",
      "dtype: float64\n",
      "Long     0.003193\n",
      "Short    0.002592\n",
      "dtype: float64\n",
      "Long     0.002252\n",
      "Short    0.001333\n",
      "dtype: float64\n",
      "Long     0.002577\n",
      "Short    0.001085\n",
      "dtype: float64\n",
      "Long     0.001033\n",
      "Short    0.000956\n",
      "dtype: float64\n",
      "Long     0.00132\n",
      "Short    0.00123\n",
      "dtype: float64\n",
      "Long     0.000987\n",
      "Short   -0.000941\n",
      "dtype: float64\n"
     ]
    }
   ],
   "source": [
    "LS_data = pd.DataFrame([])\n",
    "for ret_year in range(1993,2020):  \n",
    "    ret = pd.read_csv('results-Intraday-240-3-LSTM/avg_daily_rets-'+str(ret_year)+'.csv')\n",
    "    LS = ret.mean()\n",
    "    print(LS)\n",
    "    LS = pd.Series(LS,name = str(ret_year))\n",
    "    LS_data = LS_data.append(LS)\n",
    "\n"
   ]
  },
  {
   "cell_type": "code",
   "execution_count": null,
   "id": "4b86b485",
   "metadata": {},
   "outputs": [],
   "source": [
    "LS_data_1 = pd.DataFrame([])\n",
    "for ret_year in range(1993,2020):  \n",
    "    ret = pd.read_csv('results-Intraday-240-1-LSTM/avg_daily_rets-'+str(ret_year)+'.csv')\n",
    "    LS = ret.mean()\n",
    "    print(LS)\n",
    "    LS = pd.Series(LS,name = str(ret_year))\n",
    "    LS_data_1 = LS_data_1.append(LS)"
   ]
  },
  {
   "cell_type": "code",
   "execution_count": null,
   "id": "58b4a659",
   "metadata": {},
   "outputs": [],
   "source": []
  },
  {
   "cell_type": "code",
   "execution_count": 50,
   "id": "eb34c858",
   "metadata": {},
   "outputs": [
    {
     "data": {
      "text/plain": [
       "Long     0.006303\n",
       "Short    0.004063\n",
       "dtype: float64"
      ]
     },
     "execution_count": 50,
     "metadata": {},
     "output_type": "execute_result"
    }
   ],
   "source": [
    "LS_data.mean()"
   ]
  },
  {
   "cell_type": "code",
   "execution_count": 41,
   "id": "802de472",
   "metadata": {},
   "outputs": [
    {
     "data": {
      "text/html": [
       "<div>\n",
       "<style scoped>\n",
       "    .dataframe tbody tr th:only-of-type {\n",
       "        vertical-align: middle;\n",
       "    }\n",
       "\n",
       "    .dataframe tbody tr th {\n",
       "        vertical-align: top;\n",
       "    }\n",
       "\n",
       "    .dataframe thead th {\n",
       "        text-align: right;\n",
       "    }\n",
       "</style>\n",
       "<table border=\"1\" class=\"dataframe\">\n",
       "  <thead>\n",
       "    <tr style=\"text-align: right;\">\n",
       "      <th></th>\n",
       "      <th>Long</th>\n",
       "      <th>Short</th>\n",
       "    </tr>\n",
       "  </thead>\n",
       "  <tbody>\n",
       "    <tr>\n",
       "      <th>1993</th>\n",
       "      <td>0.012272</td>\n",
       "      <td>0.012578</td>\n",
       "    </tr>\n",
       "  </tbody>\n",
       "</table>\n",
       "</div>"
      ],
      "text/plain": [
       "          Long     Short\n",
       "1993  0.012272  0.012578"
      ]
     },
     "execution_count": 41,
     "metadata": {},
     "output_type": "execute_result"
    }
   ],
   "source": [
    "# LS = ret.mean()\n",
    "# LS = pd.Series(LS,name = '1993')\n",
    "# LS_data = pd.DataFrame([])\n",
    "# LS_data = LS_data.append(LS)\n",
    "# LS_data"
   ]
  },
  {
   "cell_type": "code",
   "execution_count": null,
   "id": "d69333c4",
   "metadata": {},
   "outputs": [],
   "source": []
  }
 ],
 "metadata": {
  "kernelspec": {
   "display_name": "Python 3",
   "language": "python",
   "name": "python3"
  },
  "language_info": {
   "codemirror_mode": {
    "name": "ipython",
    "version": 3
   },
   "file_extension": ".py",
   "mimetype": "text/x-python",
   "name": "python",
   "nbconvert_exporter": "python",
   "pygments_lexer": "ipython3",
   "version": "3.6.13"
  }
 },
 "nbformat": 4,
 "nbformat_minor": 5
}
